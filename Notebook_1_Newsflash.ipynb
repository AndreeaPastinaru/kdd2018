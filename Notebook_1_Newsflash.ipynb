{
  "nbformat": 4,
  "nbformat_minor": 0,
  "metadata": {
    "colab": {
      "name": "Notebook 1 - Newsflash.ipynb",
      "version": "0.3.2",
      "provenance": [],
      "include_colab_link": true
    },
    "kernelspec": {
      "display_name": "Python 2",
      "language": "python",
      "name": "python2"
    }
  },
  "cells": [
    {
      "cell_type": "markdown",
      "metadata": {
        "id": "view-in-github",
        "colab_type": "text"
      },
      "source": [
        "[View in Colaboratory](https://colab.research.google.com/github/anj-s/kdd2018/blob/master/Notebook_1_Newsflash.ipynb)"
      ]
    },
    {
      "metadata": {
        "id": "ZPJZc6soYWBO",
        "colab_type": "code",
        "colab": {
          "height": 51
        },
        "outputId": "dff7b628-5845-4208-8a98-390d879efa27"
      },
      "cell_type": "code",
      "source": [
        "# Import Keras and verify that the TensorFlow backend is set as the default.\n",
        "import keras\n",
        "keras.__version__"
      ],
      "execution_count": 0,
      "outputs": [
        {
          "output_type": "stream",
          "text": [
            "Using TensorFlow backend.\n"
          ],
          "name": "stderr"
        },
        {
          "output_type": "execute_result",
          "data": {
            "text/plain": [
              "'2.1.1'"
            ]
          },
          "metadata": {
            "tags": []
          },
          "execution_count": 1
        }
      ]
    },
    {
      "metadata": {
        "id": "cTP8s0URYWBU",
        "colab_type": "text"
      },
      "cell_type": "markdown",
      "source": [
        "# Notebook 1"
      ]
    },
    {
      "metadata": {
        "id": "WVaW8KjpYWBU",
        "colab_type": "text"
      },
      "cell_type": "markdown",
      "source": [
        "## Classifying newswires: a multi-class classification example\n",
        "\n",
        "This notebook contains code samples that have been adapted from Francois Chollet's Deep Learning With Python.\n",
        "\n",
        "----\n",
        "In this notebook we are going to introduce how to build a [`Sequential`](https://keras.io/getting-started/sequential-model-guide/) model using [`Dense`](https://keras.io/layers/core/) layers. A Sequential model is a linear stack of layers with a single input and output. A Dense layer is a fully connected layer in your model. We are also going to introduce the following APIs:\n",
        "* `compile`\n",
        "* `fit`\n",
        "* `evaluate`\n",
        "* `predict`\n",
        "\n",
        "We will also introduce `callbacks` and how you can use them as part of model training. "
      ]
    },
    {
      "metadata": {
        "id": "TpvwX2Q8YWBV",
        "colab_type": "text"
      },
      "cell_type": "markdown",
      "source": [
        "## Problem\n",
        "To get familiar with Keras APIs we we going to build a network to classify Reuters newswires into 46 different mutually-exclusive topics. Since we have many \n",
        "classes, this problem is an instance of \"multi-class classification\", and since each data point should be classified into only one \n",
        "category, the problem is more specifically an instance of \"single-label, multi-class classification\"."
      ]
    },
    {
      "metadata": {
        "id": "ahH3WMGfYWBW",
        "colab_type": "text"
      },
      "cell_type": "markdown",
      "source": [
        "## Dataset\n",
        "\n",
        "\n",
        "We will be working with the _Reuters dataset_, a set of short newswires and their topics, published by Reuters in 1986. It's a very simple, \n",
        "widely used toy dataset for text classification. There are 46 different topics; some topics are more represented than others, but each topic has at least 10 examples in the training set.\n",
        "\n",
        "A number of datasets come packaged as part of Keras. A few examples of these Datasets can be found [here](https://keras.io/datasets/). Some example datasets are IMDB, MNIST, CIFAR10 etc. The _Reuters dataset_ also comes prepackaged with Keras. Lets take a look at what the data looks like."
      ]
    },
    {
      "metadata": {
        "id": "rinMfHEWYWBW",
        "colab_type": "code",
        "colab": {
          "height": 473
        },
        "outputId": "de2691da-bba3-41bd-f0f2-c91816fbd58e"
      },
      "cell_type": "code",
      "source": [
        "from keras.datasets import reuters\n",
        "\n",
        "(train_data, train_labels), (test_data, test_labels) = reuters.load_data(num_words=10000)"
      ],
      "execution_count": 0,
      "outputs": [
        {
          "output_type": "stream",
          "text": [
            "Downloading data from https://s3.amazonaws.com/text-datasets/reuters.npz\n"
          ],
          "name": "stdout"
        },
        {
          "output_type": "error",
          "ename": "Exception",
          "evalue": "ignored",
          "traceback": [
            "\u001b[1;31m---------------------------------------------------------------------------\u001b[0m\n\u001b[1;31mException\u001b[0m                                 Traceback (most recent call last)",
            "\u001b[1;32m<ipython-input-3-f2e64d277d56>\u001b[0m in \u001b[0;36m<module>\u001b[1;34m()\u001b[0m\n\u001b[0;32m      1\u001b[0m \u001b[1;32mfrom\u001b[0m \u001b[0mkeras\u001b[0m\u001b[1;33m.\u001b[0m\u001b[0mdatasets\u001b[0m \u001b[1;32mimport\u001b[0m \u001b[0mreuters\u001b[0m\u001b[1;33m\u001b[0m\u001b[0m\n\u001b[0;32m      2\u001b[0m \u001b[1;33m\u001b[0m\u001b[0m\n\u001b[1;32m----> 3\u001b[1;33m \u001b[1;33m(\u001b[0m\u001b[0mtrain_data\u001b[0m\u001b[1;33m,\u001b[0m \u001b[0mtrain_labels\u001b[0m\u001b[1;33m)\u001b[0m\u001b[1;33m,\u001b[0m \u001b[1;33m(\u001b[0m\u001b[0mtest_data\u001b[0m\u001b[1;33m,\u001b[0m \u001b[0mtest_labels\u001b[0m\u001b[1;33m)\u001b[0m \u001b[1;33m=\u001b[0m \u001b[0mreuters\u001b[0m\u001b[1;33m.\u001b[0m\u001b[0mload_data\u001b[0m\u001b[1;33m(\u001b[0m\u001b[0mnum_words\u001b[0m\u001b[1;33m=\u001b[0m\u001b[1;36m10000\u001b[0m\u001b[1;33m)\u001b[0m\u001b[1;33m\u001b[0m\u001b[0m\n\u001b[0m",
            "\u001b[1;32m/export/hda3/borglet/remote_hdd_fs_dirs/0.colab_kernel_pool_tensorflow_45.kernel.colaboratory-playground.122127006881.14b334fb3717c109/mount/server/rl_colab.par/google3/third_party/py/keras/datasets/reuters.py\u001b[0m in \u001b[0;36mload_data\u001b[1;34m(path, num_words, skip_top, maxlen, test_split, seed, start_char, oov_char, index_from, **kwargs)\u001b[0m\n\u001b[0;32m     49\u001b[0m     path = get_file(path,\n\u001b[0;32m     50\u001b[0m                     \u001b[0morigin\u001b[0m\u001b[1;33m=\u001b[0m\u001b[1;34m'https://s3.amazonaws.com/text-datasets/reuters.npz'\u001b[0m\u001b[1;33m,\u001b[0m\u001b[1;33m\u001b[0m\u001b[0m\n\u001b[1;32m---> 51\u001b[1;33m                     file_hash='87aedbeb0cb229e378797a632c1997b6')\n\u001b[0m\u001b[0;32m     52\u001b[0m     \u001b[1;32mwith\u001b[0m \u001b[0mnp\u001b[0m\u001b[1;33m.\u001b[0m\u001b[0mload\u001b[0m\u001b[1;33m(\u001b[0m\u001b[0mpath\u001b[0m\u001b[1;33m)\u001b[0m \u001b[1;32mas\u001b[0m \u001b[0mf\u001b[0m\u001b[1;33m:\u001b[0m\u001b[1;33m\u001b[0m\u001b[0m\n\u001b[0;32m     53\u001b[0m         \u001b[0mxs\u001b[0m\u001b[1;33m,\u001b[0m \u001b[0mlabels\u001b[0m \u001b[1;33m=\u001b[0m \u001b[0mf\u001b[0m\u001b[1;33m[\u001b[0m\u001b[1;34m'x'\u001b[0m\u001b[1;33m]\u001b[0m\u001b[1;33m,\u001b[0m \u001b[0mf\u001b[0m\u001b[1;33m[\u001b[0m\u001b[1;34m'y'\u001b[0m\u001b[1;33m]\u001b[0m\u001b[1;33m\u001b[0m\u001b[0m\n",
            "\u001b[1;32m/export/hda3/borglet/remote_hdd_fs_dirs/0.colab_kernel_pool_tensorflow_45.kernel.colaboratory-playground.122127006881.14b334fb3717c109/mount/server/rl_colab.par/google3/third_party/py/keras/utils/data_utils.py\u001b[0m in \u001b[0;36mget_file\u001b[1;34m(fname, origin, untar, md5_hash, file_hash, cache_subdir, hash_algorithm, extract, archive_format, cache_dir)\u001b[0m\n\u001b[0;32m    220\u001b[0m                 \u001b[0murlretrieve\u001b[0m\u001b[1;33m(\u001b[0m\u001b[0morigin\u001b[0m\u001b[1;33m,\u001b[0m \u001b[0mfpath\u001b[0m\u001b[1;33m,\u001b[0m \u001b[0mdl_progress\u001b[0m\u001b[1;33m)\u001b[0m\u001b[1;33m\u001b[0m\u001b[0m\n\u001b[0;32m    221\u001b[0m             \u001b[1;32mexcept\u001b[0m \u001b[0mURLError\u001b[0m \u001b[1;32mas\u001b[0m \u001b[0me\u001b[0m\u001b[1;33m:\u001b[0m\u001b[1;33m\u001b[0m\u001b[0m\n\u001b[1;32m--> 222\u001b[1;33m                 \u001b[1;32mraise\u001b[0m \u001b[0mException\u001b[0m\u001b[1;33m(\u001b[0m\u001b[0merror_msg\u001b[0m\u001b[1;33m.\u001b[0m\u001b[0mformat\u001b[0m\u001b[1;33m(\u001b[0m\u001b[0morigin\u001b[0m\u001b[1;33m,\u001b[0m \u001b[0me\u001b[0m\u001b[1;33m.\u001b[0m\u001b[0merrno\u001b[0m\u001b[1;33m,\u001b[0m \u001b[0me\u001b[0m\u001b[1;33m.\u001b[0m\u001b[0mreason\u001b[0m\u001b[1;33m)\u001b[0m\u001b[1;33m)\u001b[0m\u001b[1;33m\u001b[0m\u001b[0m\n\u001b[0m\u001b[0;32m    223\u001b[0m             \u001b[1;32mexcept\u001b[0m \u001b[0mHTTPError\u001b[0m \u001b[1;32mas\u001b[0m \u001b[0me\u001b[0m\u001b[1;33m:\u001b[0m\u001b[1;33m\u001b[0m\u001b[0m\n\u001b[0;32m    224\u001b[0m                 \u001b[1;32mraise\u001b[0m \u001b[0mException\u001b[0m\u001b[1;33m(\u001b[0m\u001b[0merror_msg\u001b[0m\u001b[1;33m.\u001b[0m\u001b[0mformat\u001b[0m\u001b[1;33m(\u001b[0m\u001b[0morigin\u001b[0m\u001b[1;33m,\u001b[0m \u001b[0me\u001b[0m\u001b[1;33m.\u001b[0m\u001b[0mcode\u001b[0m\u001b[1;33m,\u001b[0m \u001b[0me\u001b[0m\u001b[1;33m.\u001b[0m\u001b[0mmsg\u001b[0m\u001b[1;33m)\u001b[0m\u001b[1;33m)\u001b[0m\u001b[1;33m\u001b[0m\u001b[0m\n",
            "\u001b[1;31mException\u001b[0m: URL fetch failure on https://s3.amazonaws.com/text-datasets/reuters.npz: None -- [Errno 97] Address family not supported by protocol"
          ]
        }
      ]
    },
    {
      "metadata": {
        "id": "yLriLAIvYWBa",
        "colab_type": "text"
      },
      "cell_type": "markdown",
      "source": [
        "The argument `num_words=10000` restricts the data to the 10,000 most frequently occurring words found in the data.\n",
        "\n",
        "We have 8,982 training examples and 2,246 test examples:"
      ]
    },
    {
      "metadata": {
        "id": "8bdiq0UdYWBa",
        "colab_type": "code",
        "colab": {},
        "outputId": "5e92a8c8-333e-412e-a247-90af5d66748d"
      },
      "cell_type": "code",
      "source": [
        "len(train_data)"
      ],
      "execution_count": 0,
      "outputs": [
        {
          "output_type": "execute_result",
          "data": {
            "text/plain": [
              "8982"
            ]
          },
          "metadata": {
            "tags": []
          },
          "execution_count": 2
        }
      ]
    },
    {
      "metadata": {
        "id": "lbMw63twYWBd",
        "colab_type": "code",
        "colab": {},
        "outputId": "427f41c2-e5f7-4c74-8efa-86f4572e48d4"
      },
      "cell_type": "code",
      "source": [
        "len(test_data)"
      ],
      "execution_count": 0,
      "outputs": [
        {
          "output_type": "execute_result",
          "data": {
            "text/plain": [
              "2246"
            ]
          },
          "metadata": {
            "tags": []
          },
          "execution_count": 3
        }
      ]
    },
    {
      "metadata": {
        "id": "qA-SvExRYWBf",
        "colab_type": "text"
      },
      "cell_type": "markdown",
      "source": [
        "Each example is a list of integers (word indices):"
      ]
    },
    {
      "metadata": {
        "id": "Tre3hUc0YWBg",
        "colab_type": "code",
        "colab": {},
        "outputId": "68f8e156-04de-43a8-fd22-bc21bb46bca4"
      },
      "cell_type": "code",
      "source": [
        "train_data[10]"
      ],
      "execution_count": 0,
      "outputs": [
        {
          "output_type": "execute_result",
          "data": {
            "text/plain": [
              "[1,\n",
              " 245,\n",
              " 273,\n",
              " 207,\n",
              " 156,\n",
              " 53,\n",
              " 74,\n",
              " 160,\n",
              " 26,\n",
              " 14,\n",
              " 46,\n",
              " 296,\n",
              " 26,\n",
              " 39,\n",
              " 74,\n",
              " 2979,\n",
              " 3554,\n",
              " 14,\n",
              " 46,\n",
              " 4689,\n",
              " 4329,\n",
              " 86,\n",
              " 61,\n",
              " 3499,\n",
              " 4795,\n",
              " 14,\n",
              " 61,\n",
              " 451,\n",
              " 4329,\n",
              " 17,\n",
              " 12]"
            ]
          },
          "metadata": {
            "tags": []
          },
          "execution_count": 4
        }
      ]
    },
    {
      "metadata": {
        "id": "ZRjcGZ-yYWBj",
        "colab_type": "text"
      },
      "cell_type": "markdown",
      "source": [
        "Here's how you can decode it back to words, in case you are curious:"
      ]
    },
    {
      "metadata": {
        "id": "OHFWgiOUYWBj",
        "colab_type": "code",
        "colab": {}
      },
      "cell_type": "code",
      "source": [
        "word_index = reuters.get_word_index()\n",
        "reverse_word_index = dict([(value, key) for (key, value) in word_index.items()])\n",
        "# Note that our indices were offset by 3\n",
        "# because 0, 1 and 2 are reserved indices for \"padding\", \"start of sequence\", and \"unknown\".\n",
        "decoded_newswire = ' '.join([reverse_word_index.get(i - 3, '?') for i in train_data[0]])"
      ],
      "execution_count": 0,
      "outputs": []
    },
    {
      "metadata": {
        "id": "a_pXKkjzYWBm",
        "colab_type": "code",
        "colab": {},
        "outputId": "d16ea427-5765-48d5-ed72-1d684a27907a"
      },
      "cell_type": "code",
      "source": [
        "decoded_newswire"
      ],
      "execution_count": 0,
      "outputs": [
        {
          "output_type": "execute_result",
          "data": {
            "text/plain": [
              "u'? ? ? said as a result of its december acquisition of space co it expects earnings per share in 1987 of 1 15 to 1 30 dlrs per share up from 70 cts in 1986 the company said pretax net should rise to nine to 10 mln dlrs from six mln dlrs in 1986 and rental operation revenues to 19 to 22 mln dlrs from 12 5 mln dlrs it said cash flow per share this year should be 2 50 to three dlrs reuter 3'"
            ]
          },
          "metadata": {
            "tags": []
          },
          "execution_count": 7
        }
      ]
    },
    {
      "metadata": {
        "id": "3A1AehV1YWBp",
        "colab_type": "text"
      },
      "cell_type": "markdown",
      "source": [
        "Since we limit the number of word index dictionary to the first 10000 words, there is a chance\n",
        "that the newswire will have words that do not have an index associated with it. This is what the ? symbol\n",
        "represents in the above newswire."
      ]
    },
    {
      "metadata": {
        "id": "2S737X8fYWBp",
        "colab_type": "text"
      },
      "cell_type": "markdown",
      "source": [
        "The label associated with an example is an integer between 0 and 45: a topic index."
      ]
    },
    {
      "metadata": {
        "id": "lAls9HkbYWBq",
        "colab_type": "code",
        "colab": {},
        "outputId": "69fdd0fa-6994-4b1e-ada4-0586f997d3e3"
      },
      "cell_type": "code",
      "source": [
        "train_labels[10]"
      ],
      "execution_count": 0,
      "outputs": [
        {
          "output_type": "execute_result",
          "data": {
            "text/plain": [
              "3"
            ]
          },
          "metadata": {
            "tags": []
          },
          "execution_count": 6
        }
      ]
    },
    {
      "metadata": {
        "id": "e97cu7HqYWBt",
        "colab_type": "text"
      },
      "cell_type": "markdown",
      "source": [
        "## Preparing the data\n",
        "\n",
        "We can vectorize the data with the exact same code as in our previous example:"
      ]
    },
    {
      "metadata": {
        "id": "SbkG6LaVYWBu",
        "colab_type": "code",
        "colab": {}
      },
      "cell_type": "code",
      "source": [
        "import numpy as np\n",
        "\n",
        "def vectorize_sequences(sequences, dimension=10000):\n",
        "    results = np.zeros((len(sequences), dimension))\n",
        "    for i, sequence in enumerate(sequences):\n",
        "        results[i, sequence] = 1.\n",
        "    return results\n",
        "\n",
        "# Our vectorized training data\n",
        "x_train = vectorize_sequences(train_data)\n",
        "# Our vectorized test data\n",
        "x_test = vectorize_sequences(test_data)"
      ],
      "execution_count": 0,
      "outputs": []
    },
    {
      "metadata": {
        "id": "rB-FZwTHYWBx",
        "colab_type": "code",
        "colab": {},
        "outputId": "4c24e87c-3496-4809-f1bb-47bbdf4dbece"
      },
      "cell_type": "code",
      "source": [
        "x_train[0][:10]"
      ],
      "execution_count": 0,
      "outputs": [
        {
          "output_type": "execute_result",
          "data": {
            "text/plain": [
              "array([0., 1., 1., 0., 1., 1., 1., 1., 1., 1.])"
            ]
          },
          "metadata": {
            "tags": []
          },
          "execution_count": 12
        }
      ]
    },
    {
      "metadata": {
        "id": "HtUfZB_CYWBz",
        "colab_type": "text"
      },
      "cell_type": "markdown",
      "source": [
        "\n",
        "To vectorize the labels, there are two possibilities: we could just cast the label list as an integer tensor, or we could use a \"one-hot\" \n",
        "encoding. One-hot encoding of our labels consists in embedding each label as an all-zero vector with a 1 in the place of the label index. You can do this using a built-in Keras function:"
      ]
    },
    {
      "metadata": {
        "id": "xpYSVfxtYWBz",
        "colab_type": "code",
        "colab": {}
      },
      "cell_type": "code",
      "source": [
        "from keras.utils.np_utils import to_categorical\n",
        "\n",
        "one_hot_train_labels = to_categorical(train_labels)\n",
        "one_hot_test_labels = to_categorical(test_labels)"
      ],
      "execution_count": 0,
      "outputs": []
    },
    {
      "metadata": {
        "id": "9AQ4xreLYWB2",
        "colab_type": "text"
      },
      "cell_type": "markdown",
      "source": [
        "## Building our network\n",
        "\n",
        "\n",
        "In this topic classification problem we are trying to classify short snippets of text. The difference between a binary classification problem and this one is that the number of output class is 46 i.e the dimensionality of the output space is much larger. (A binary classification problem is one in which there are two possible output clases.)"
      ]
    },
    {
      "metadata": {
        "id": "lwmEThT6YWB2",
        "colab_type": "text"
      },
      "cell_type": "markdown",
      "source": [
        "## Exercise: Build a Sequential model:"
      ]
    },
    {
      "metadata": {
        "id": "OSYoxD2bYWB3",
        "colab_type": "code",
        "colab": {}
      },
      "cell_type": "code",
      "source": [
        "from keras import models\n",
        "from keras import layers\n",
        "\n",
        "# Instantiate a Sequential Model\n",
        "# ...\n",
        "# Add 2 Dense layers of 64 units each to the model. Let `relu` be the activation function.\n",
        "# Note: Specify the input_shape argument for the first layer.\n",
        "# ...\n",
        "# ...\n",
        "# Add a final Dense layer that classifies the output\n",
        "# Note: You should use 46 units since out output dimension is going to be the number of output classes). \n",
        "# Let `softmax` be the activation function.\n",
        "# ...\n",
        "\n",
        "# Solution\n",
        "model = models.Sequential()\n",
        "model.add(layers.Dense(64, activation='relu', input_shape=(10000,)))\n",
        "model.add(layers.Dense(64, activation='relu'))\n",
        "model.add(layers.Dense(46, activation='softmax'))"
      ],
      "execution_count": 0,
      "outputs": []
    },
    {
      "metadata": {
        "id": "ppIjef2cYWB6",
        "colab_type": "text"
      },
      "cell_type": "markdown",
      "source": [
        "Some things to note about this architecture:\n",
        "\n",
        "* We are ending the network with a `Dense` layer of size 46. This means that for each input sample, our network will output a \n",
        "46-dimensional vector. Each entry in this vector (each dimension) will encode a different output class.\n",
        "* We are using the Relu function for activation.\n",
        "* The last layer uses a `softmax` activation. It means that the network will \n",
        "output a _probability distribution_ over the 46 different output classes, i.e. for every input sample, the network will produce a \n",
        "46-dimensional output vector where `output[i]` is the probability that the sample belongs to class `i`. The 46 scores will sum to 1.\n",
        "\n"
      ]
    },
    {
      "metadata": {
        "id": "Xo9S2hdTYWB7",
        "colab_type": "text"
      },
      "cell_type": "markdown",
      "source": [
        "## Exercise: Compile the model:"
      ]
    },
    {
      "metadata": {
        "id": "bDeXdGORYWB7",
        "colab_type": "text"
      },
      "cell_type": "markdown",
      "source": [
        "Compiling the model is \"freezing\" the model with certain attributes set such as `loss`, `optimizer`, `metrics` etc. "
      ]
    },
    {
      "metadata": {
        "id": "KcBZWL0EYWB8",
        "colab_type": "code",
        "colab": {},
        "outputId": "8eed1792-5891-467c-8026-ddce4e883ec1"
      },
      "cell_type": "code",
      "source": [
        "# Compile the model with a \"rmsprop\" optimizer, \"categorical_crossentropy\" loss and \"accuracy\" metric.\n",
        "# ...\n",
        "\n",
        "# Solution\n",
        "model.compile(optimizer='rmsprop',\n",
        "              loss='categorical_crossentropy',\n",
        "              metrics=['accuracy'])"
      ],
      "execution_count": 0,
      "outputs": [
        {
          "output_type": "error",
          "ename": "NameError",
          "evalue": "name 'model' is not defined",
          "traceback": [
            "\u001b[0;31m---------------------------------------------------------------------------\u001b[0m",
            "\u001b[0;31mNameError\u001b[0m                                 Traceback (most recent call last)",
            "\u001b[0;32m<ipython-input-3-ab83631a6fe7>\u001b[0m in \u001b[0;36m<module>\u001b[0;34m()\u001b[0m\n\u001b[1;32m      1\u001b[0m \u001b[0;31m# Compile the model with a \"rmsprop\" optimizer, \"categorical_crossentropy\" loss and\u001b[0m\u001b[0;34m\u001b[0m\u001b[0;34m\u001b[0m\u001b[0m\n\u001b[0;32m----> 2\u001b[0;31m model.compile(optimizer='rmsprop',\n\u001b[0m\u001b[1;32m      3\u001b[0m               \u001b[0mloss\u001b[0m\u001b[0;34m=\u001b[0m\u001b[0;34m'categorical_crossentropy'\u001b[0m\u001b[0;34m,\u001b[0m\u001b[0;34m\u001b[0m\u001b[0m\n\u001b[1;32m      4\u001b[0m               metrics=['accuracy'])\n",
            "\u001b[0;31mNameError\u001b[0m: name 'model' is not defined"
          ]
        }
      ]
    },
    {
      "metadata": {
        "id": "Kiq-MBUVYWB-",
        "colab_type": "text"
      },
      "cell_type": "markdown",
      "source": [
        "In Keras you can specify the different parameters above as strings such as \"rmsprop\" or as keras.optimizers.RMSprop. You can do the same for loss and metrics. Here are a list of [optimizers](https://keras.io/optimizers/), [loss functions](https://keras.io/losses/) and [metrics](https://keras.io/metrics/) that are available in Keras. \n",
        "\n",
        "In our example above the best loss function to use `categorical_crossentropy` since it measures the distance between \n",
        "the probability distribution output by our network and the true distribution of the labels. By minimizing the \n",
        "distance between these two distributions, we train our network to output something as close as possible to the true labels.\n",
        "\n",
        "Another point to note is if we had used output labels as integer tensors instead of one-hot encoded vectors, then we should use`sparse_categorical_crossentropy` instead of `categorical_crossentropy`."
      ]
    },
    {
      "metadata": {
        "id": "lcTP-HXpYWB-",
        "colab_type": "text"
      },
      "cell_type": "markdown",
      "source": [
        "## Training our model\n",
        "\n",
        "Let's set apart 1,000 samples in our training data to use as a validation set:"
      ]
    },
    {
      "metadata": {
        "id": "IGScSanpYWB-",
        "colab_type": "code",
        "colab": {}
      },
      "cell_type": "code",
      "source": [
        "# Split the training data into train and validation datasets.\n",
        "x_val = x_train[:1000]\n",
        "partial_x_train = x_train[1000:]\n",
        "\n",
        "y_val = one_hot_train_labels[:1000]\n",
        "partial_y_train = one_hot_train_labels[1000:]"
      ],
      "execution_count": 0,
      "outputs": []
    },
    {
      "metadata": {
        "id": "vNfk54B6YWCB",
        "colab_type": "text"
      },
      "cell_type": "markdown",
      "source": [
        "## Exercise: Now let's train our network for 20 epochs:"
      ]
    },
    {
      "metadata": {
        "id": "oIOihl5fYWCC",
        "colab_type": "code",
        "colab": {},
        "outputId": "e3e3e883-6b29-4f84-fe71-0eca29947ae3"
      },
      "cell_type": "code",
      "source": [
        "# Use the `fit` call with the above training and validation datasets. Use can use a batch size of 512.\n",
        "# ...\n",
        "\n",
        "# Solution:\n",
        "history = model.fit(partial_x_train,\n",
        "                    partial_y_train,\n",
        "                    epochs=20,\n",
        "                    batch_size=512,\n",
        "                    validation_data=(x_val, y_val))"
      ],
      "execution_count": 0,
      "outputs": [
        {
          "output_type": "stream",
          "text": [
            "Train on 7982 samples, validate on 1000 samples\n",
            "Epoch 1/20\n",
            "7982/7982 [==============================] - 1s 139us/step - loss: 2.5500 - acc: 0.5001 - val_loss: 1.6881 - val_acc: 0.6480\n",
            "Epoch 2/20\n",
            "7982/7982 [==============================] - 1s 114us/step - loss: 1.3822 - acc: 0.7117 - val_loss: 1.2881 - val_acc: 0.7260\n",
            "Epoch 3/20\n",
            "7982/7982 [==============================] - 1s 116us/step - loss: 1.0233 - acc: 0.7854 - val_loss: 1.1285 - val_acc: 0.7540\n",
            "Epoch 4/20\n",
            "7982/7982 [==============================] - ETA: 0s - loss: 0.8015 - acc: 0.827 - 1s 113us/step - loss: 0.8021 - acc: 0.8277 - val_loss: 1.0230 - val_acc: 0.7790\n",
            "Epoch 5/20\n",
            "7982/7982 [==============================] - 1s 113us/step - loss: 0.6407 - acc: 0.8675 - val_loss: 0.9640 - val_acc: 0.8050\n",
            "Epoch 6/20\n",
            "7982/7982 [==============================] - 1s 114us/step - loss: 0.5115 - acc: 0.8919 - val_loss: 0.9380 - val_acc: 0.7980\n",
            "Epoch 7/20\n",
            "7982/7982 [==============================] - 1s 114us/step - loss: 0.4097 - acc: 0.9138 - val_loss: 0.9100 - val_acc: 0.8220\n",
            "Epoch 8/20\n",
            "7982/7982 [==============================] - 1s 114us/step - loss: 0.3380 - acc: 0.9272 - val_loss: 0.9080 - val_acc: 0.8130\n",
            "Epoch 9/20\n",
            "7982/7982 [==============================] - 1s 113us/step - loss: 0.2799 - acc: 0.9382 - val_loss: 0.9301 - val_acc: 0.8090\n",
            "Epoch 10/20\n",
            "7982/7982 [==============================] - 1s 112us/step - loss: 0.2350 - acc: 0.9461 - val_loss: 0.9336 - val_acc: 0.8110\n",
            "Epoch 11/20\n",
            "7982/7982 [==============================] - 1s 112us/step - loss: 0.2024 - acc: 0.9498 - val_loss: 0.9402 - val_acc: 0.8170\n",
            "Epoch 12/20\n",
            "7982/7982 [==============================] - 1s 114us/step - loss: 0.1836 - acc: 0.9539 - val_loss: 0.9716 - val_acc: 0.8060\n",
            "Epoch 13/20\n",
            "7982/7982 [==============================] - 1s 99us/step - loss: 0.1635 - acc: 0.9530 - val_loss: 0.9401 - val_acc: 0.8260\n",
            "Epoch 14/20\n",
            "7982/7982 [==============================] - 1s 108us/step - loss: 0.1503 - acc: 0.9550 - val_loss: 0.9686 - val_acc: 0.8220\n",
            "Epoch 15/20\n",
            "7982/7982 [==============================] - 1s 112us/step - loss: 0.1364 - acc: 0.9579 - val_loss: 1.0047 - val_acc: 0.8030\n",
            "Epoch 16/20\n",
            "7982/7982 [==============================] - 1s 112us/step - loss: 0.1300 - acc: 0.9550 - val_loss: 1.0299 - val_acc: 0.8110\n",
            "Epoch 17/20\n",
            "7982/7982 [==============================] - 1s 113us/step - loss: 0.1238 - acc: 0.9567 - val_loss: 1.0425 - val_acc: 0.8040\n",
            "Epoch 18/20\n",
            "7982/7982 [==============================] - 1s 113us/step - loss: 0.1238 - acc: 0.9544 - val_loss: 1.0677 - val_acc: 0.7970\n",
            "Epoch 19/20\n",
            "7982/7982 [==============================] - 1s 112us/step - loss: 0.1146 - acc: 0.9597 - val_loss: 1.0445 - val_acc: 0.8080\n",
            "Epoch 20/20\n",
            "7982/7982 [==============================] - 1s 111us/step - loss: 0.1100 - acc: 0.9578 - val_loss: 1.1127 - val_acc: 0.7930\n"
          ],
          "name": "stdout"
        }
      ]
    },
    {
      "metadata": {
        "id": "OKQAYmyQYWCF",
        "colab_type": "text"
      },
      "cell_type": "markdown",
      "source": [
        "Let's display its loss and accuracy curves:"
      ]
    },
    {
      "metadata": {
        "id": "_MY_UyLqYWCF",
        "colab_type": "code",
        "colab": {},
        "outputId": "b0c23318-fec1-483a-b688-8407ed7676e6"
      },
      "cell_type": "code",
      "source": [
        "import matplotlib.pyplot as plt\n",
        "\n",
        "loss = history.history['loss']\n",
        "val_loss = history.history['val_loss']\n",
        "\n",
        "epochs = range(1, len(loss) + 1)\n",
        "\n",
        "plt.plot(epochs, loss, 'bo', label='Training loss')\n",
        "plt.plot(epochs, val_loss, 'b', label='Validation loss')\n",
        "plt.title('Training and validation loss')\n",
        "plt.xlabel('Epochs')\n",
        "plt.ylabel('Loss')\n",
        "plt.legend()\n",
        "\n",
        "plt.show()"
      ],
      "execution_count": 0,
      "outputs": [
        {
          "output_type": "display_data",
          "data": {
            "image/png": "[encoded data removed]",
            "text/plain": [
              "<Figure size 432x288 with 1 Axes>"
            ]
          },
          "metadata": {
            "tags": []
          }
        }
      ]
    },
    {
      "metadata": {
        "id": "tAnZa0ntYWCI",
        "colab_type": "code",
        "colab": {},
        "outputId": "b877cc40-3005-422f-e980-3d440200ceb3"
      },
      "cell_type": "code",
      "source": [
        "plt.clf()   # clear figure\n",
        "\n",
        "acc = history.history['acc']\n",
        "val_acc = history.history['val_acc']\n",
        "\n",
        "plt.plot(epochs, acc, 'bo', label='Training acc')\n",
        "plt.plot(epochs, val_acc, 'b', label='Validation acc')\n",
        "plt.title('Training and validation accuracy')\n",
        "plt.xlabel('Epochs')\n",
        "plt.ylabel('Loss')\n",
        "plt.legend()\n",
        "\n",
        "plt.show()"
      ],
      "execution_count": 0,
      "outputs": [
        {
          "output_type": "display_data",
          "data": {
            "image/png": "[encoded data removed]",
            "text/plain": [
              "<Figure size 432x288 with 1 Axes>"
            ]
          },
          "metadata": {
            "tags": []
          }
        }
      ]
    },
    {
      "metadata": {
        "id": "i4o4DmhAYWCK",
        "colab_type": "text"
      },
      "cell_type": "markdown",
      "source": [
        "It seems that the network starts overfitting after 8 epochs. \n",
        "\n",
        "## Exercise: Let's train a new network from scratch for 8 epochs, then let's evaluate it on the test set:"
      ]
    },
    {
      "metadata": {
        "id": "8QTSsjMfYWCK",
        "colab_type": "code",
        "colab": {},
        "outputId": "a060d211-3b45-4b27-edbc-eade97134692"
      },
      "cell_type": "code",
      "source": [
        "# Use the same model from before and train the model as before. However for this run let the number of epochs be 8.\n",
        "# ...\n",
        "\n",
        "# Solution\n",
        "model = models.Sequential()\n",
        "model.add(layers.Dense(64, activation='relu', input_shape=(10000,)))\n",
        "model.add(layers.Dense(64, activation='relu'))\n",
        "model.add(layers.Dense(46, activation='softmax'))\n",
        "\n",
        "model.compile(optimizer='rmsprop',\n",
        "              loss='categorical_crossentropy',\n",
        "              metrics=['accuracy'])\n",
        "\n",
        "history = model.fit(partial_x_train,\n",
        "                    partial_y_train,\n",
        "                    epochs=20,\n",
        "                    batch_size=512,\n",
        "                    validation_data=(x_val, y_val))"
      ],
      "execution_count": 0,
      "outputs": [
        {
          "output_type": "stream",
          "text": [
            "Train on 7982 samples, validate on 1000 samples\n",
            "Epoch 1/8\n",
            "7982/7982 [==============================] - 1s 146us/step - loss: 2.6190 - acc: 0.5357 - val_loss: 1.7437 - val_acc: 0.6420\n",
            "Epoch 2/8\n",
            "7982/7982 [==============================] - 1s 115us/step - loss: 1.4484 - acc: 0.7001 - val_loss: 1.3407 - val_acc: 0.7060\n",
            "Epoch 3/8\n",
            "7982/7982 [==============================] - 1s 114us/step - loss: 1.0856 - acc: 0.7679 - val_loss: 1.1674 - val_acc: 0.7490\n",
            "Epoch 4/8\n",
            "7982/7982 [==============================] - 1s 112us/step - loss: 0.8580 - acc: 0.8136 - val_loss: 1.0559 - val_acc: 0.7850\n",
            "Epoch 5/8\n",
            "7982/7982 [==============================] - 1s 110us/step - loss: 0.6858 - acc: 0.8537 - val_loss: 0.9967 - val_acc: 0.7890\n",
            "Epoch 6/8\n",
            "7982/7982 [==============================] - 1s 110us/step - loss: 0.5518 - acc: 0.8827 - val_loss: 0.9534 - val_acc: 0.7960\n",
            "Epoch 7/8\n",
            "7982/7982 [==============================] - 1s 113us/step - loss: 0.4385 - acc: 0.9112 - val_loss: 0.9236 - val_acc: 0.8090\n",
            "Epoch 8/8\n",
            "7982/7982 [==============================] - 1s 114us/step - loss: 0.3561 - acc: 0.9263 - val_loss: 0.9192 - val_acc: 0.8170\n",
            "2246/2246 [==============================] - 0s 82us/step\n"
          ],
          "name": "stdout"
        }
      ]
    },
    {
      "metadata": {
        "id": "VMkXr6MYYWCN",
        "colab_type": "text"
      },
      "cell_type": "markdown",
      "source": [
        "## Evaluate the model:"
      ]
    },
    {
      "metadata": {
        "id": "khaqaGN3YWCO",
        "colab_type": "code",
        "colab": {},
        "outputId": "0ac4aa4a-a420-4659-8a5c-a93ae57cc6fb"
      },
      "cell_type": "code",
      "source": [
        "# Use `evaluate` the model with the test training input(x_test) and the one-hot encoded labels(one_hot_test_labels).\n",
        "# ...\n",
        "\n",
        "# Solution\n",
        "results = model.evaluate(x_test, one_hot_test_labels)"
      ],
      "execution_count": 0,
      "outputs": [
        {
          "output_type": "execute_result",
          "data": {
            "text/plain": [
              "[0.9977506699566319, 0.780053428317008]"
            ]
          },
          "metadata": {
            "tags": []
          },
          "execution_count": 48
        }
      ]
    },
    {
      "metadata": {
        "id": "kh1CzuKlYWCR",
        "colab_type": "text"
      },
      "cell_type": "markdown",
      "source": [
        "\n",
        "Our approach reaches an accuracy of ~78%. With a balanced binary classification problem, the accuracy reached by a purely random classifier \n",
        "would be 50%, but in our case it is closer to 19%, so our results seem pretty good, at least when compared to a random baseline:"
      ]
    },
    {
      "metadata": {
        "id": "eLyd3YFZYWCR",
        "colab_type": "code",
        "colab": {},
        "outputId": "9aac46a3-e005-43ba-cba0-7043da945747"
      },
      "cell_type": "code",
      "source": [
        "import copy\n",
        "\n",
        "test_labels_copy = copy.copy(test_labels)\n",
        "np.random.shuffle(test_labels_copy)\n",
        "float(np.sum(np.array(test_labels) == np.array(test_labels_copy))) / len(test_labels)"
      ],
      "execution_count": 0,
      "outputs": [
        {
          "output_type": "execute_result",
          "data": {
            "text/plain": [
              "0.18744434550311664"
            ]
          },
          "metadata": {
            "tags": []
          },
          "execution_count": 50
        }
      ]
    },
    {
      "metadata": {
        "id": "UB_Vs05MYWCU",
        "colab_type": "text"
      },
      "cell_type": "markdown",
      "source": [
        "## Exercise: Now let us try with a larger network with 128 Dense units:"
      ]
    },
    {
      "metadata": {
        "id": "t9VOwI6IYWCU",
        "colab_type": "code",
        "colab": {},
        "outputId": "b81dcf1d-7248-4f1b-ad94-705311082d36"
      },
      "cell_type": "code",
      "source": [
        "# Use the same model as before but with 128 units set for the first two Dense layers. `compile`, `fit` and `evaluate`\n",
        "# the model as before. You can also plot the loss and accuracy to see the behavior of the model.\n",
        "\n",
        "\n",
        "# Solution\n",
        "from keras import models\n",
        "from keras import layers\n",
        "\n",
        "model = models.Sequential()\n",
        "model.add(layers.Dense(128, activation='relu', input_shape=(10000,)))\n",
        "model.add(layers.Dense(128, activation='relu'))\n",
        "model.add(layers.Dense(46, activation='softmax'))\n",
        "\n",
        "model.compile(optimizer='rmsprop',\n",
        "              loss='categorical_crossentropy',\n",
        "              metrics=['accuracy'])\n",
        "\n",
        "history = model.fit(partial_x_train,\n",
        "          partial_y_train,\n",
        "          epochs=20,\n",
        "          batch_size=512,\n",
        "          validation_data=(x_val, y_val))\n",
        "results = model.evaluate(x_test, one_hot_test_labels)\n",
        "\n",
        "plt.clf()   # clear figure\n",
        "\n",
        "acc = history.history['acc']\n",
        "val_acc = history.history['val_acc']\n",
        "\n",
        "plt.plot(epochs, acc, 'bo', label='Training acc')\n",
        "plt.plot(epochs, val_acc, 'b', label='Validation acc')\n",
        "plt.title('Training and validation accuracy')\n",
        "plt.xlabel('Epochs')\n",
        "plt.ylabel('Loss')\n",
        "plt.legend()\n",
        "\n",
        "plt.show()"
      ],
      "execution_count": 0,
      "outputs": [
        {
          "output_type": "stream",
          "text": [
            "Train on 7982 samples, validate on 1000 samples\n",
            "Epoch 1/20\n",
            "7982/7982 [==============================] - 1s 187us/step - loss: 2.2420 - acc: 0.5678 - val_loss: 1.3752 - val_acc: 0.6950\n",
            "Epoch 2/20\n",
            "7982/7982 [==============================] - 1s 140us/step - loss: 1.1218 - acc: 0.7562 - val_loss: 1.1314 - val_acc: 0.7510\n",
            "Epoch 3/20\n",
            "7982/7982 [==============================] - 1s 137us/step - loss: 0.7966 - acc: 0.8316 - val_loss: 0.9982 - val_acc: 0.7880\n",
            "Epoch 4/20\n",
            "7982/7982 [==============================] - 1s 139us/step - loss: 0.5761 - acc: 0.8796 - val_loss: 0.9768 - val_acc: 0.7980\n",
            "Epoch 5/20\n",
            "7982/7982 [==============================] - 1s 135us/step - loss: 0.4213 - acc: 0.9128 - val_loss: 0.9326 - val_acc: 0.8090\n",
            "Epoch 6/20\n",
            "7982/7982 [==============================] - 1s 140us/step - loss: 0.3286 - acc: 0.9300 - val_loss: 0.9012 - val_acc: 0.8180\n",
            "Epoch 7/20\n",
            "7982/7982 [==============================] - 1s 145us/step - loss: 0.2546 - acc: 0.9405 - val_loss: 0.8938 - val_acc: 0.8170\n",
            "Epoch 8/20\n",
            "7982/7982 [==============================] - 1s 139us/step - loss: 0.2163 - acc: 0.9463 - val_loss: 0.8838 - val_acc: 0.8250\n",
            "Epoch 9/20\n",
            "7982/7982 [==============================] - 1s 140us/step - loss: 0.1751 - acc: 0.9545 - val_loss: 0.9330 - val_acc: 0.8160\n",
            "Epoch 10/20\n",
            "7982/7982 [==============================] - 1s 142us/step - loss: 0.1650 - acc: 0.9544 - val_loss: 1.0007 - val_acc: 0.8020\n",
            "Epoch 11/20\n",
            "7982/7982 [==============================] - 1s 144us/step - loss: 0.1512 - acc: 0.9550 - val_loss: 1.0212 - val_acc: 0.8020\n",
            "Epoch 12/20\n",
            "7982/7982 [==============================] - 1s 142us/step - loss: 0.1409 - acc: 0.9559 - val_loss: 0.9803 - val_acc: 0.8110\n",
            "Epoch 13/20\n",
            "7982/7982 [==============================] - 1s 143us/step - loss: 0.1336 - acc: 0.9568 - val_loss: 1.0012 - val_acc: 0.8190\n",
            "Epoch 14/20\n",
            "7982/7982 [==============================] - 1s 139us/step - loss: 0.1244 - acc: 0.9545 - val_loss: 1.0029 - val_acc: 0.8080\n",
            "Epoch 15/20\n",
            "7982/7982 [==============================] - 1s 136us/step - loss: 0.1199 - acc: 0.9557 - val_loss: 1.0704 - val_acc: 0.7990\n",
            "Epoch 16/20\n",
            "7982/7982 [==============================] - 1s 138us/step - loss: 0.1205 - acc: 0.9563 - val_loss: 1.0352 - val_acc: 0.8130\n",
            "Epoch 17/20\n",
            "7982/7982 [==============================] - 1s 145us/step - loss: 0.1128 - acc: 0.9574 - val_loss: 1.1733 - val_acc: 0.7720\n",
            "Epoch 18/20\n",
            "7982/7982 [==============================] - 1s 142us/step - loss: 0.1129 - acc: 0.9585 - val_loss: 1.0277 - val_acc: 0.8160\n",
            "Epoch 19/20\n",
            "7982/7982 [==============================] - 1s 140us/step - loss: 0.1097 - acc: 0.9580 - val_loss: 1.0754 - val_acc: 0.8050\n",
            "Epoch 20/20\n",
            "7982/7982 [==============================] - 1s 137us/step - loss: 0.1071 - acc: 0.9553 - val_loss: 1.0346 - val_acc: 0.8070\n",
            "2246/2246 [==============================] - 0s 128us/step\n"
          ],
          "name": "stdout"
        },
        {
          "output_type": "display_data",
          "data": {
            "image/png": "[encoded data removed]",
            "text/plain": [
              "<Figure size 432x288 with 1 Axes>"
            ]
          },
          "metadata": {
            "tags": []
          }
        }
      ]
    },
    {
      "metadata": {
        "id": "C6In9Eq9YWCY",
        "colab_type": "text"
      },
      "cell_type": "markdown",
      "source": [
        "As you can see, with the larger network we get a slight increase in accuracy but the network seems to perform just as good previously."
      ]
    },
    {
      "metadata": {
        "id": "uID8p8GpYWCZ",
        "colab_type": "text"
      },
      "cell_type": "markdown",
      "source": [
        "## Exercise: Now let us train the model with a single Dense layer network:"
      ]
    },
    {
      "metadata": {
        "id": "A34uySWdYWCa",
        "colab_type": "code",
        "colab": {},
        "outputId": "6b53e9bd-686f-4cb4-81ae-82f437a01061"
      },
      "cell_type": "code",
      "source": [
        "# Use the same model as before but with 1 units set for a single Dense layer. `compile`, `fit` and `evaluate`\n",
        "# the model as before. You can also plot the loss and accuracy to see the behavior of the model.\n",
        "\n",
        "\n",
        "# Solution\n",
        "from keras import models\n",
        "from keras import layers\n",
        "\n",
        "model = models.Sequential()\n",
        "model.add(layers.Dense(1, activation='relu', input_shape=(10000,)))\n",
        "model.add(layers.Dense(46, activation='softmax'))\n",
        "\n",
        "model.compile(optimizer='rmsprop',\n",
        "              loss='categorical_crossentropy',\n",
        "              metrics=['accuracy'])\n",
        "\n",
        "history = model.fit(partial_x_train,\n",
        "          partial_y_train,\n",
        "          epochs=20,\n",
        "          batch_size=512,\n",
        "          validation_data=(x_val, y_val))\n",
        "results = model.evaluate(x_test, one_hot_test_labels)\n",
        "\n",
        "plt.clf()   # clear figure\n",
        "\n",
        "acc = history.history['acc']\n",
        "val_acc = history.history['val_acc']\n",
        "\n",
        "plt.plot(epochs, acc, 'bo', label='Training acc')\n",
        "plt.plot(epochs, val_acc, 'b', label='Validation acc')\n",
        "plt.title('Training and validation accuracy')\n",
        "plt.xlabel('Epochs')\n",
        "plt.ylabel('Loss')\n",
        "plt.legend()\n",
        "\n",
        "plt.show()"
      ],
      "execution_count": 0,
      "outputs": [
        {
          "output_type": "stream",
          "text": [
            "Train on 7982 samples, validate on 1000 samples\n",
            "Epoch 1/20\n",
            "7982/7982 [==============================] - 1s 117us/step - loss: 3.7685 - acc: 0.0119 - val_loss: 3.7223 - val_acc: 0.0050\n",
            "Epoch 2/20\n",
            "7982/7982 [==============================] - 1s 76us/step - loss: 3.6660 - acc: 0.0970 - val_loss: 3.6355 - val_acc: 0.1990\n",
            "Epoch 3/20\n",
            "7982/7982 [==============================] - 1s 75us/step - loss: 3.5689 - acc: 0.2953 - val_loss: 3.5420 - val_acc: 0.3530\n",
            "Epoch 4/20\n",
            "7982/7982 [==============================] - 1s 74us/step - loss: 3.4674 - acc: 0.3519 - val_loss: 3.4439 - val_acc: 0.3540\n",
            "Epoch 5/20\n",
            "7982/7982 [==============================] - 1s 72us/step - loss: 3.3611 - acc: 0.3520 - val_loss: 3.3407 - val_acc: 0.3540\n",
            "Epoch 6/20\n",
            "7982/7982 [==============================] - 1s 71us/step - loss: 3.2520 - acc: 0.3524 - val_loss: 3.2343 - val_acc: 0.3540\n",
            "Epoch 7/20\n",
            "7982/7982 [==============================] - 1s 73us/step - loss: 3.1405 - acc: 0.3515 - val_loss: 3.1246 - val_acc: 0.3540\n",
            "Epoch 8/20\n",
            "7982/7982 [==============================] - 1s 71us/step - loss: 3.0289 - acc: 0.3519 - val_loss: 3.0138 - val_acc: 0.3540\n",
            "Epoch 9/20\n",
            "7982/7982 [==============================] - 1s 74us/step - loss: 2.9194 - acc: 0.3515 - val_loss: 2.9054 - val_acc: 0.3540\n",
            "Epoch 10/20\n",
            "7982/7982 [==============================] - 1s 73us/step - loss: 2.8149 - acc: 0.3515 - val_loss: 2.8017 - val_acc: 0.3540\n",
            "Epoch 11/20\n",
            "7982/7982 [==============================] - 1s 71us/step - loss: 2.7180 - acc: 0.3515 - val_loss: 2.7070 - val_acc: 0.3540\n",
            "Epoch 12/20\n",
            "7982/7982 [==============================] - 1s 71us/step - loss: 2.6296 - acc: 0.3517 - val_loss: 2.6202 - val_acc: 0.3550\n",
            "Epoch 13/20\n",
            "7982/7982 [==============================] - 1s 75us/step - loss: 2.5509 - acc: 0.3515 - val_loss: 2.5437 - val_acc: 0.3550\n",
            "Epoch 14/20\n",
            "7982/7982 [==============================] - 1s 76us/step - loss: 2.4815 - acc: 0.3517 - val_loss: 2.4772 - val_acc: 0.3550\n",
            "Epoch 15/20\n",
            "7982/7982 [==============================] - 1s 73us/step - loss: 2.4208 - acc: 0.3515 - val_loss: 2.4179 - val_acc: 0.3550\n",
            "Epoch 16/20\n",
            "7982/7982 [==============================] - 1s 73us/step - loss: 2.3669 - acc: 0.3518 - val_loss: 2.3658 - val_acc: 0.3530\n",
            "Epoch 17/20\n",
            "7982/7982 [==============================] - 1s 72us/step - loss: 2.3187 - acc: 0.3518 - val_loss: 2.3195 - val_acc: 0.3540\n",
            "Epoch 18/20\n",
            "7982/7982 [==============================] - 1s 72us/step - loss: 2.2747 - acc: 0.3518 - val_loss: 2.2765 - val_acc: 0.3540\n",
            "Epoch 19/20\n",
            "7982/7982 [==============================] - 1s 73us/step - loss: 2.2340 - acc: 0.3519 - val_loss: 2.2379 - val_acc: 0.3540\n",
            "Epoch 20/20\n",
            "7982/7982 [==============================] - 1s 71us/step - loss: 2.1968 - acc: 0.3520 - val_loss: 2.2023 - val_acc: 0.3540\n",
            "2246/2246 [==============================] - 0s 49us/step\n"
          ],
          "name": "stdout"
        },
        {
          "output_type": "display_data",
          "data": {
            "image/png": "[encoded data removed]",
            "text/plain": [
              "<Figure size 432x288 with 1 Axes>"
            ]
          },
          "metadata": {
            "tags": []
          }
        }
      ]
    },
    {
      "metadata": {
        "id": "vPt0E6mcYWCf",
        "colab_type": "text"
      },
      "cell_type": "markdown",
      "source": [
        "You can see that the accuracy stagnates at around 35% since the network is unable to learn any new information from\n",
        "the data."
      ]
    },
    {
      "metadata": {
        "id": "Z1AuLlfPYWCf",
        "colab_type": "text"
      },
      "cell_type": "markdown",
      "source": [
        "## Generating predictions on new data\n",
        "\n",
        "We can verify that the `predict` method of our model instance returns a probability distribution over all 46 topics. Let's generate topic \n",
        "predictions for all of the test data:"
      ]
    },
    {
      "metadata": {
        "id": "Ew-b458lYWCh",
        "colab_type": "code",
        "colab": {}
      },
      "cell_type": "code",
      "source": [
        "predictions = model.predict(x_test)"
      ],
      "execution_count": 0,
      "outputs": []
    },
    {
      "metadata": {
        "id": "3g4bIxe8YWCi",
        "colab_type": "text"
      },
      "cell_type": "markdown",
      "source": [
        "Each entry in `predictions` is a vector of length 46:"
      ]
    },
    {
      "metadata": {
        "id": "lzPg6twzYWCk",
        "colab_type": "code",
        "colab": {},
        "outputId": "743c91d5-6689-4d5f-fb19-18d7afed26a7"
      },
      "cell_type": "code",
      "source": [
        "predictions[0].shape"
      ],
      "execution_count": 0,
      "outputs": [
        {
          "output_type": "execute_result",
          "data": {
            "text/plain": [
              "(46,)"
            ]
          },
          "metadata": {
            "tags": []
          },
          "execution_count": 52
        }
      ]
    },
    {
      "metadata": {
        "id": "5bw8_cILYWCm",
        "colab_type": "text"
      },
      "cell_type": "markdown",
      "source": [
        "The coefficients in this vector sum to 1:"
      ]
    },
    {
      "metadata": {
        "id": "UeVN_YoMYWCn",
        "colab_type": "code",
        "colab": {},
        "outputId": "44b4979c-ef0c-45ef-bcca-07f668c7d338"
      },
      "cell_type": "code",
      "source": [
        "np.sum(predictions[0])"
      ],
      "execution_count": 0,
      "outputs": [
        {
          "output_type": "execute_result",
          "data": {
            "text/plain": [
              "0.9999999"
            ]
          },
          "metadata": {
            "tags": []
          },
          "execution_count": 53
        }
      ]
    },
    {
      "metadata": {
        "id": "7Pj63zpiYWCp",
        "colab_type": "text"
      },
      "cell_type": "markdown",
      "source": [
        "The largest entry is the predicted class, i.e. the class with the highest probability:"
      ]
    },
    {
      "metadata": {
        "id": "PxFrU7mfYWCp",
        "colab_type": "code",
        "colab": {},
        "outputId": "2bc0c70a-e5b7-4632-fa63-7ceab8fba2e6"
      },
      "cell_type": "code",
      "source": [
        "np.argmax(predictions[0])"
      ],
      "execution_count": 0,
      "outputs": [
        {
          "output_type": "execute_result",
          "data": {
            "text/plain": [
              "3"
            ]
          },
          "metadata": {
            "tags": []
          },
          "execution_count": 25
        }
      ]
    },
    {
      "metadata": {
        "id": "wMktLPtvYWCs",
        "colab_type": "text"
      },
      "cell_type": "markdown",
      "source": [
        "## Dealing with overfitting:"
      ]
    },
    {
      "metadata": {
        "id": "DjvJNJz0YWCt",
        "colab_type": "text"
      },
      "cell_type": "markdown",
      "source": [
        "Common ways to deal with overfitting is to train the model on more data or even to reduce the capacity of the network.\n",
        "A bigger network gets its training loss near zero very quickly. The more capacity the network has, the quicker it will be able to model the training data (resulting in a low training loss), but the more susceptible it is to overfitting (resulting in a large difference between the training and validation loss). Other techniques to deal with overfitting is using weight regularization and dropout. Keras provides APIs that make it very simple to use these techniques. "
      ]
    },
    {
      "metadata": {
        "id": "IKuI17A8YWCt",
        "colab_type": "text"
      },
      "cell_type": "markdown",
      "source": [
        "### Adding weight regularization:\n",
        "A common way to mitigate overfitting is to put constraints on the complexity of a network by forcing its weights to only take small values, which makes the distribution of weight values more \"regular\". This is called \"weight regularization\", and it is done by adding to the loss function of the network a cost associated with having large weights. This cost comes in two flavors:\n",
        "\n",
        "L1 regularization, where the cost added is proportional to the absolute value of the weights coefficients (i.e. to what is called the \"L1 norm\" of the weights).\n",
        "L2 regularization, where the cost added is proportional to the square of the value of the weights coefficients (i.e. to what is called the \"L2 norm\" of the weights). L2 regularization is also called weight decay in the context of neural networks. Don't let the different name confuse you: weight decay is mathematically the exact same as L2 regularization.\n",
        "In Keras, [weight regularization](https://keras.io/regularizers/) is added by passing weight regularizer instances to layers as keyword arguments. Let's add L2 weight regularization to an example Dense layer:"
      ]
    },
    {
      "metadata": {
        "id": "bwf92FW1YWCu",
        "colab_type": "code",
        "colab": {}
      },
      "cell_type": "code",
      "source": [
        "mock_dense_layer = layers.Dense(64, kernel_regularizer=regularizers.l2(0.001), activation='relu', input_shape=(10000,)))"
      ],
      "execution_count": 0,
      "outputs": []
    },
    {
      "metadata": {
        "id": "z22FGFSOYWCv",
        "colab_type": "text"
      },
      "cell_type": "markdown",
      "source": [
        "### Adding dropout:\n",
        "[Dropout](https://keras.io/layers/core/), applied to a layer, consists of randomly \"dropping out\" (i.e. setting to zero) a number of output features of the layer during training. Let's say a given layer would normally have returned a vector [0.2, 0.5, 1.3, 0.8, 1.1] for a given input sample during training; after applying dropout, this vector will have a few zero entries distributed at random, e.g. [0, 0.5, 1.3, 0, 1.1]. The \"dropout rate\" is the fraction of the features that are being zeroed-out; it is usually set between 0.2 and 0.5. At test time, no units are dropped out, and instead the layer's output values are scaled down by a factor equal to the dropout rate, so as to balance for the fact that more units are active than at training time."
      ]
    },
    {
      "metadata": {
        "id": "kMIpEuPHYWCw",
        "colab_type": "code",
        "colab": {}
      },
      "cell_type": "code",
      "source": [
        "# An example Dropout layer:\n",
        "#...\n",
        "mock_model.add(layers.Dense(16, activation='relu', input_shape=(10000,)))\n",
        "mock_model.add(layers.Dropout(0.5)) # 0.5 is the dropout rate\n",
        "#..."
      ],
      "execution_count": 0,
      "outputs": []
    },
    {
      "metadata": {
        "id": "3V1N8_JIYWCx",
        "colab_type": "text"
      },
      "cell_type": "markdown",
      "source": [
        "## Callbacks\n",
        "You can use Keras built-in [callbacks](https://keras.io/callbacks/) to checkpoint your model, save TensorBoard summaries, adjust learning rate during training etc.\n",
        "Callbacks are a way to perform an action, view internal state or model statistics at the beginning/end of the training loop, an epoch or a step in the fit loop.\n",
        "Let's instantiate the ModelCheckpoint and TensorBoard callback:"
      ]
    },
    {
      "metadata": {
        "id": "teBugUdtYWCy",
        "colab_type": "code",
        "colab": {}
      },
      "cell_type": "code",
      "source": [
        "from keras import callbacks\n",
        "# Create a ModelCheckpoint callback by specifying a filepath such a s'/tmp/checkpoints'. You can look at some of the\n",
        "# other parameters that you can set in the link above.\n",
        "# ...\n",
        "\n",
        "# Solution\n",
        "model_checkpoint_cb = callbacks.ModelCheckpoint('/tmp/checkpoints',\n",
        "                                                monitor='val_loss',\n",
        "                                                period=1)\n",
        "\n",
        "# Create a TensorBoard callback that writes model summaries to a given directory such as '/tmp/logs'.\n",
        "# ...\n",
        "\n",
        "# Solution\n",
        "tensorboard_cb = callbacks.TensorBoard(log_dir='/tmp/logs')\n",
        "\n",
        "# Let us use our model from above:\n",
        "from keras import models\n",
        "from keras import layers\n",
        "\n",
        "model = models.Sequential()\n",
        "model.add(layers.Dense(64, activation='relu', input_shape=(10000,)))\n",
        "model.add(layers.Dense(64, activation='relu'))\n",
        "model.add(layers.Dense(46, activation='softmax'))\n",
        "\n",
        "model.compile(optimizer='rmsprop',\n",
        "              loss='categorical_crossentropy',\n",
        "              metrics=['accuracy'])\n",
        "\n",
        "# Pass the callbacks instantiated above to the `callbacks` parameter in the `fit` call.\n",
        "# ...\n",
        "\n",
        "\n",
        "# Solution\n",
        "history = model.fit(partial_x_train,\n",
        "          partial_y_train,\n",
        "          epochs=20,\n",
        "          batch_size=512,\n",
        "          validation_data=(x_val, y_val),\n",
        "          callbacks=[model_checkpoint_cb, tensorboard_cb])"
      ],
      "execution_count": 0,
      "outputs": []
    },
    {
      "metadata": {
        "id": "2GLuh_d_YWCz",
        "colab_type": "text"
      },
      "cell_type": "markdown",
      "source": [
        "You should be able to view TensorBoard summaries by using the following command:\n",
        "`tensorboard --logdir=/full_path_to_your_logs`. Make sure to have installed the TensorBoard pip package."
      ]
    }
  ]
}